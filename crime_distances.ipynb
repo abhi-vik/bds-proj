{
 "cells": [
  {
   "cell_type": "code",
   "execution_count": 1,
   "metadata": {},
   "outputs": [],
   "source": [
    "import json\n",
    "\n",
    "import numpy as np\n",
    "import pandas as pd\n",
    "from money_parser import price_dec\n",
    "\n",
    "pd.options.display.max_columns = None"
   ]
  },
  {
   "cell_type": "code",
   "execution_count": 2,
   "metadata": {},
   "outputs": [
    {
     "name": "stderr",
     "output_type": "stream",
     "text": [
      "/home/abhivik/.local/lib/python3.6/site-packages/IPython/core/interactiveshell.py:3058: DtypeWarning: Columns (94,95) have mixed types. Specify dtype option on import or set low_memory=False.\n",
      "  interactivity=interactivity, compiler=compiler, result=result)\n"
     ]
    }
   ],
   "source": [
    "def curr_to_float(v): return float(price_dec(v)) if v else v\n",
    "def tf_to_10(v): return 1 if v == 't' else 0\n",
    "def nulls_to_0(v): return float(0 if (pd.isnull(v) or v == '') else v)\n",
    "\n",
    "converters_to_columns = [\n",
    "    (curr_to_float, ['price', 'weekly_price', 'monthly_price']),\n",
    "    (tf_to_10, ['instant_bookable', 'host_is_superhost']),\n",
    "    (nulls_to_0, ['bedrooms', 'bathrooms'])\n",
    "]\n",
    "\n",
    "converters = {col: conv for conv, cols in converters_to_columns for col in cols}\n",
    "\n",
    "df = pd.read_csv('data/listings.csv', index_col='id', converters=converters)"
   ]
  },
  {
   "cell_type": "code",
   "execution_count": 3,
   "metadata": {},
   "outputs": [
    {
     "name": "stderr",
     "output_type": "stream",
     "text": [
      "/home/abhivik/.local/lib/python3.6/site-packages/IPython/core/interactiveshell.py:3058: DtypeWarning: Columns (17) have mixed types. Specify dtype option on import or set low_memory=False.\n",
      "  interactivity=interactivity, compiler=compiler, result=result)\n",
      "/home/abhivik/.local/lib/python3.6/site-packages/numpy/lib/arraysetops.py:568: FutureWarning: elementwise comparison failed; returning scalar instead, but in the future will perform elementwise comparison\n",
      "  mask |= (ar1 == a)\n"
     ]
    }
   ],
   "source": [
    "complaints_df = pd.read_csv('data/NYPD_Complaint_Data_Historic.csv', index_col='CMPLNT_NUM')"
   ]
  },
  {
   "cell_type": "code",
   "execution_count": 4,
   "metadata": {},
   "outputs": [],
   "source": [
    "cleaned_complaints_df = complaints_df[~complaints_df['Latitude'].isnull()].copy()"
   ]
  },
  {
   "cell_type": "code",
   "execution_count": 5,
   "metadata": {},
   "outputs": [],
   "source": [
    "lats = pd.cut(cleaned_complaints_df['Latitude'], 30)\n",
    "lons = pd.cut(cleaned_complaints_df['Longitude'], 30)"
   ]
  },
  {
   "cell_type": "code",
   "execution_count": 6,
   "metadata": {},
   "outputs": [],
   "source": [
    "lats = lats.apply(lambda v: str(v.left) + ',' + str(v.right))\n",
    "lons = lons.apply(lambda v: str(v.left) + ',' + str(v.right))"
   ]
  },
  {
   "cell_type": "code",
   "execution_count": 7,
   "metadata": {},
   "outputs": [],
   "source": [
    "boxes = lats.str.cat(lons, sep=',')"
   ]
  },
  {
   "cell_type": "code",
   "execution_count": 8,
   "metadata": {},
   "outputs": [],
   "source": [
    "cleaned_complaints_df['boxes'] = boxes"
   ]
  },
  {
   "cell_type": "code",
   "execution_count": 10,
   "metadata": {},
   "outputs": [],
   "source": [
    "def convert_to_number(val):\n",
    "    if (val == 'FELONY'):\n",
    "        return 5\n",
    "    elif (val == 'MISDEMEANOR'):\n",
    "        return 1\n",
    "    else:\n",
    "        return 0.1\n",
    "\n",
    "cleaned_complaints_df['LAW_CAT_CD_NUMBER'] = cleaned_complaints_df['LAW_CAT_CD'].apply(convert_to_number)"
   ]
  },
  {
   "cell_type": "code",
   "execution_count": 11,
   "metadata": {},
   "outputs": [],
   "source": [
    "box_df = cleaned_complaints_df[['boxes', 'LAW_CAT_CD_NUMBER']].groupby('boxes').sum().reset_index().copy()"
   ]
  },
  {
   "cell_type": "code",
   "execution_count": 12,
   "metadata": {},
   "outputs": [],
   "source": [
    "box_df['lower_latitude'] = box_df['boxes'].apply(lambda v: float(v.split(',')[0]))\n",
    "box_df['upper_latitude'] = box_df['boxes'].apply(lambda v: float(v.split(',')[1]))\n",
    "box_df['lower_longitude'] = box_df['boxes'].apply(lambda v: float(v.split(',')[2]))\n",
    "box_df['upper_longitude'] = box_df['boxes'].apply(lambda v: float(v.split(',')[3]))"
   ]
  },
  {
   "cell_type": "code",
   "execution_count": 13,
   "metadata": {},
   "outputs": [],
   "source": [
    "box_df['lower_latitude'] = box_df['lower_latitude'].apply(lambda v: 0 if v == box_df['lower_latitude'].min() else v)\n",
    "box_df['upper_latitude'] = box_df['upper_latitude'].apply(lambda v: (v+1) if v == box_df['upper_latitude'].max() else v)\n",
    "box_df['lower_longitude'] = box_df['lower_longitude'].apply(lambda v: (v-1) if v == box_df['lower_longitude'].min() else v)\n",
    "box_df['upper_longitude'] = box_df['upper_longitude'].apply(lambda v: 0 if v == box_df['upper_longitude'].max() else v)"
   ]
  },
  {
   "cell_type": "code",
   "execution_count": 22,
   "metadata": {
    "scrolled": true
   },
   "outputs": [
    {
     "name": "stdout",
     "output_type": "stream",
     "text": [
      "done  5000\n",
      "done  10000\n",
      "done  15000\n",
      "done  20000\n",
      "done  25000\n",
      "done  30000\n",
      "done  35000\n",
      "done  40000\n",
      "done  45000\n",
      "done  50000\n"
     ]
    }
   ],
   "source": [
    "df['box'] = ''\n",
    "df['box_lower_latitude'] = np.nan\n",
    "df['box_upper_latitude'] = np.nan\n",
    "df['box_lower_longitude'] = np.nan\n",
    "df['box_upper_longitude'] = np.nan\n",
    "df['crime_score'] = np.nan\n",
    "done_count = 0\n",
    "for index, row in df.iterrows():\n",
    "    s1 = np.logical_and(row.latitude > box_df['lower_latitude'], row.latitude <= box_df['upper_latitude'])\n",
    "    s2 = np.logical_and(row.longitude > box_df['lower_longitude'], row.longitude <= box_df['upper_longitude'])\n",
    "    box = box_df[np.logical_and(s1, s2)]\n",
    "    try:\n",
    "        box_dict = box.iloc[0].to_dict()\n",
    "        df.at[index, 'box'] = box_dict['boxes']\n",
    "        df.at[index, 'box_lower_latitude'] = box_dict['lower_latitude']\n",
    "        df.at[index, 'box_upper_latitude'] = box_dict['upper_latitude']\n",
    "        df.at[index, 'box_lower_longitude'] = box_dict['lower_longitude']\n",
    "        df.at[index, 'box_upper_longitude'] = box_dict['upper_longitude']\n",
    "        df.at[index, 'crime_score'] = box_dict['LAW_CAT_CD_NUMBER']\n",
    "    except Exception as e:\n",
    "        print(e)\n",
    "        display(index)\n",
    "    done_count+=1\n",
    "    if done_count % 5000 == 0:\n",
    "        print('done ', done_count)"
   ]
  },
  {
   "cell_type": "code",
   "execution_count": 25,
   "metadata": {},
   "outputs": [
    {
     "data": {
      "text/html": [
       "<div>\n",
       "<style scoped>\n",
       "    .dataframe tbody tr th:only-of-type {\n",
       "        vertical-align: middle;\n",
       "    }\n",
       "\n",
       "    .dataframe tbody tr th {\n",
       "        vertical-align: top;\n",
       "    }\n",
       "\n",
       "    .dataframe thead th {\n",
       "        text-align: right;\n",
       "    }\n",
       "</style>\n",
       "<table border=\"1\" class=\"dataframe\">\n",
       "  <thead>\n",
       "    <tr style=\"text-align: right;\">\n",
       "      <th></th>\n",
       "      <th>crime_score</th>\n",
       "    </tr>\n",
       "    <tr>\n",
       "      <th>neighbourhood_cleansed</th>\n",
       "      <th></th>\n",
       "    </tr>\n",
       "  </thead>\n",
       "  <tbody>\n",
       "    <tr>\n",
       "      <th>Theater District</th>\n",
       "      <td>46733.929126</td>\n",
       "    </tr>\n",
       "    <tr>\n",
       "      <th>Flatiron District</th>\n",
       "      <td>37010.700000</td>\n",
       "    </tr>\n",
       "    <tr>\n",
       "      <th>Gramercy</th>\n",
       "      <td>36418.281921</td>\n",
       "    </tr>\n",
       "    <tr>\n",
       "      <th>NoHo</th>\n",
       "      <td>31342.700000</td>\n",
       "    </tr>\n",
       "    <tr>\n",
       "      <th>Kips Bay</th>\n",
       "      <td>30769.639597</td>\n",
       "    </tr>\n",
       "    <tr>\n",
       "      <th>...</th>\n",
       "      <td>...</td>\n",
       "    </tr>\n",
       "    <tr>\n",
       "      <th>Prince's Bay</th>\n",
       "      <td>470.900000</td>\n",
       "    </tr>\n",
       "    <tr>\n",
       "      <th>Huguenot</th>\n",
       "      <td>419.100000</td>\n",
       "    </tr>\n",
       "    <tr>\n",
       "      <th>New Dorp Beach</th>\n",
       "      <td>386.200000</td>\n",
       "    </tr>\n",
       "    <tr>\n",
       "      <th>City Island</th>\n",
       "      <td>365.216667</td>\n",
       "    </tr>\n",
       "    <tr>\n",
       "      <th>Breezy Point</th>\n",
       "      <td>1.000000</td>\n",
       "    </tr>\n",
       "  </tbody>\n",
       "</table>\n",
       "<p>223 rows × 1 columns</p>\n",
       "</div>"
      ],
      "text/plain": [
       "                         crime_score\n",
       "neighbourhood_cleansed              \n",
       "Theater District        46733.929126\n",
       "Flatiron District       37010.700000\n",
       "Gramercy                36418.281921\n",
       "NoHo                    31342.700000\n",
       "Kips Bay                30769.639597\n",
       "...                              ...\n",
       "Prince's Bay              470.900000\n",
       "Huguenot                  419.100000\n",
       "New Dorp Beach            386.200000\n",
       "City Island               365.216667\n",
       "Breezy Point                1.000000\n",
       "\n",
       "[223 rows x 1 columns]"
      ]
     },
     "execution_count": 25,
     "metadata": {},
     "output_type": "execute_result"
    }
   ],
   "source": [
    "df[['neighbourhood_cleansed', 'crime_score']].groupby('neighbourhood_cleansed').mean().sort_values('crime_score', ascending=False)"
   ]
  },
  {
   "cell_type": "code",
   "execution_count": 30,
   "metadata": {},
   "outputs": [],
   "source": [
    "box_df = box_df.rename(columns={'LAW_CAT_CD_NUMBER', 'crime_score', 'boxes': 'box'})\n",
    "box_df = box_df[['lower_latitude', 'upper_latitude', 'lower_longitude', 'upper_longitude', 'box', 'crime_score']]"
   ]
  },
  {
   "cell_type": "code",
   "execution_count": 32,
   "metadata": {},
   "outputs": [],
   "source": [
    "(df[['box_lower_latitude', 'box_upper_latitude', 'box_lower_longitude', \n",
    "     'box_upper_longitude', 'box', 'crime_score']].to_csv('data/listings_with_crime_scores.csv'))"
   ]
  },
  {
   "cell_type": "code",
   "execution_count": 33,
   "metadata": {},
   "outputs": [],
   "source": [
    "box_df.to_csv('data/crime_scores.csv')"
   ]
  }
 ],
 "metadata": {
  "kernelspec": {
   "display_name": "Python 3",
   "language": "python",
   "name": "python3"
  },
  "language_info": {
   "codemirror_mode": {
    "name": "ipython",
    "version": 3
   },
   "file_extension": ".py",
   "mimetype": "text/x-python",
   "name": "python",
   "nbconvert_exporter": "python",
   "pygments_lexer": "ipython3",
   "version": "3.6.8"
  }
 },
 "nbformat": 4,
 "nbformat_minor": 2
}
