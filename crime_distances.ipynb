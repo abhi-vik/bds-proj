{
 "cells": [
  {
   "cell_type": "code",
   "execution_count": 1,
   "metadata": {},
   "outputs": [],
   "source": [
    "import json\n",
    "\n",
    "import numpy as np\n",
    "import pandas as pd\n",
    "from money_parser import price_dec\n",
    "\n",
    "pd.options.display.max_columns = None"
   ]
  },
  {
   "cell_type": "code",
   "execution_count": 2,
   "metadata": {},
   "outputs": [
    {
     "name": "stderr",
     "output_type": "stream",
     "text": [
      "c:\\program files\\python37\\lib\\site-packages\\IPython\\core\\interactiveshell.py:3058: DtypeWarning: Columns (94,95) have mixed types. Specify dtype option on import or set low_memory=False.\n",
      "  interactivity=interactivity, compiler=compiler, result=result)\n"
     ]
    }
   ],
   "source": [
    "def curr_to_float(v): return float(price_dec(v)) if v else v\n",
    "def tf_to_10(v): return 1 if v == 't' else 0\n",
    "def nulls_to_0(v): return float(0 if (pd.isnull(v) or v == '') else v)\n",
    "\n",
    "converters_to_columns = [\n",
    "    (curr_to_float, ['price', 'weekly_price', 'monthly_price']),\n",
    "    (tf_to_10, ['instant_bookable', 'host_is_superhost']),\n",
    "    (nulls_to_0, ['bedrooms', 'bathrooms'])\n",
    "]\n",
    "\n",
    "converters = {col: conv for conv, cols in converters_to_columns for col in cols}\n",
    "\n",
    "df = pd.read_csv('data/listings.csv', index_col='id', converters=converters)"
   ]
  },
  {
   "cell_type": "code",
   "execution_count": 3,
   "metadata": {},
   "outputs": [
    {
     "name": "stderr",
     "output_type": "stream",
     "text": [
      "c:\\program files\\python37\\lib\\site-packages\\IPython\\core\\interactiveshell.py:3058: DtypeWarning: Columns (17) have mixed types. Specify dtype option on import or set low_memory=False.\n",
      "  interactivity=interactivity, compiler=compiler, result=result)\n",
      "c:\\program files\\python37\\lib\\site-packages\\numpy\\lib\\arraysetops.py:568: FutureWarning: elementwise comparison failed; returning scalar instead, but in the future will perform elementwise comparison\n",
      "  mask |= (ar1 == a)\n"
     ]
    }
   ],
   "source": [
    "complaints_df = pd.read_csv('data/NYPD_Complaint_Data_Historic.csv', index_col='CMPLNT_NUM')"
   ]
  },
  {
   "cell_type": "code",
   "execution_count": 4,
   "metadata": {},
   "outputs": [],
   "source": [
    "cleaned_complaints_df = complaints_df[~complaints_df['Latitude'].isnull()].copy()"
   ]
  },
  {
   "cell_type": "code",
   "execution_count": 5,
   "metadata": {},
   "outputs": [],
   "source": [
    "lats = pd.cut(cleaned_complaints_df['Latitude'], 50)\n",
    "lons = pd.cut(cleaned_complaints_df['Longitude'], 50)"
   ]
  },
  {
   "cell_type": "code",
   "execution_count": 6,
   "metadata": {},
   "outputs": [],
   "source": [
    "lats = lats.apply(lambda v: str(v.left) + ',' + str(v.right))\n",
    "lons = lons.apply(lambda v: str(v.left) + ',' + str(v.right))"
   ]
  },
  {
   "cell_type": "code",
   "execution_count": 7,
   "metadata": {},
   "outputs": [],
   "source": [
    "boxes = lats.str.cat(lons, sep=',')"
   ]
  },
  {
   "cell_type": "code",
   "execution_count": 8,
   "metadata": {},
   "outputs": [],
   "source": [
    "cleaned_complaints_df['boxes'] = boxes"
   ]
  },
  {
   "cell_type": "code",
   "execution_count": 9,
   "metadata": {},
   "outputs": [],
   "source": [
    "def convert_to_number(val):\n",
    "    if (val == 'FELONY'):\n",
    "        return 5\n",
    "    elif (val == 'MISDEMEANOR'):\n",
    "        return 1\n",
    "    else:\n",
    "        return 0.1\n",
    "\n",
    "cleaned_complaints_df['LAW_CAT_CD_NUMBER'] = cleaned_complaints_df['LAW_CAT_CD'].apply(convert_to_number)"
   ]
  },
  {
   "cell_type": "code",
   "execution_count": 10,
   "metadata": {},
   "outputs": [],
   "source": [
    "box_df = cleaned_complaints_df[['boxes', 'LAW_CAT_CD_NUMBER']].groupby('boxes').sum().reset_index().copy()"
   ]
  },
  {
   "cell_type": "code",
   "execution_count": 11,
   "metadata": {},
   "outputs": [],
   "source": [
    "box_df['lower_latitude'] = box_df['boxes'].apply(lambda v: float(v.split(',')[0]))\n",
    "box_df['upper_latitude'] = box_df['boxes'].apply(lambda v: float(v.split(',')[1]))\n",
    "box_df['lower_longitude'] = box_df['boxes'].apply(lambda v: float(v.split(',')[2]))\n",
    "box_df['upper_longitude'] = box_df['boxes'].apply(lambda v: float(v.split(',')[3]))"
   ]
  },
  {
   "cell_type": "code",
   "execution_count": 12,
   "metadata": {},
   "outputs": [],
   "source": [
    "# box_df['lower_latitude'] = box_df['lower_latitude'].apply(lambda v: 0 if v == box_df['lower_latitude'].min() else v)\n",
    "# box_df['upper_latitude'] = box_df['upper_latitude'].apply(lambda v: (v+1) if v == box_df['upper_latitude'].max() else v)\n",
    "# box_df['lower_longitude'] = box_df['lower_longitude'].apply(lambda v: (v-1) if v == box_df['lower_longitude'].min() else v)\n",
    "# box_df['upper_longitude'] = box_df['upper_longitude'].apply(lambda v: 0 if v == box_df['upper_longitude'].max() else v)"
   ]
  },
  {
   "cell_type": "code",
   "execution_count": 12,
   "metadata": {},
   "outputs": [],
   "source": [
    "lat_cols = box_df.loc[: , ['lower_latitude', 'upper_latitude']]\n",
    "lon_cols = box_df.loc[: , ['lower_longitude', 'upper_longitude']]\n",
    "\n",
    "box_df['mean_latitude'] = lat_cols.mean(axis='columns')\n",
    "box_df['mean_longitude'] = lon_cols.mean(axis='columns')"
   ]
  },
  {
   "cell_type": "code",
   "execution_count": 13,
   "metadata": {
    "scrolled": true
   },
   "outputs": [
    {
     "name": "stdout",
     "output_type": "stream",
     "text": [
      "index 1391683\n",
      "done  2500\n",
      "done  5000\n",
      "index 5251338\n",
      "done  7500\n",
      "done  10000\n",
      "done  12500\n",
      "done  15000\n",
      "done  17500\n",
      "done  20000\n",
      "done  22500\n",
      "done  25000\n",
      "done  27500\n",
      "done  30000\n",
      "index 26703677\n",
      "index 27301638\n",
      "done  32500\n",
      "done  35000\n",
      "done  37500\n",
      "done  40000\n",
      "done  42500\n",
      "index 36417725\n",
      "done  45000\n",
      "done  47500\n",
      "index 39447248\n",
      "index 39811924\n",
      "index 40346146\n",
      "done  50000\n",
      "index 40452853\n"
     ]
    }
   ],
   "source": [
    "df['box'] = ''\n",
    "df['box_lower_latitude'] = np.nan\n",
    "df['box_upper_latitude'] = np.nan\n",
    "df['box_lower_longitude'] = np.nan\n",
    "df['box_upper_longitude'] = np.nan\n",
    "df['crime_score'] = np.nan\n",
    "done_count = 0\n",
    "for index, row in df.iterrows():\n",
    "    s1 = np.logical_and(row.latitude > box_df['lower_latitude'], row.latitude <= box_df['upper_latitude'])\n",
    "    s2 = np.logical_and(row.longitude > box_df['lower_longitude'], row.longitude <= box_df['upper_longitude'])\n",
    "    box = box_df[np.logical_and(s1, s2)]\n",
    "    try:\n",
    "        box_dict = box.iloc[0].to_dict()\n",
    "        df.at[index, 'box'] = box_dict['boxes']\n",
    "        df.at[index, 'box_lower_latitude'] = box_dict['lower_latitude']\n",
    "        df.at[index, 'box_upper_latitude'] = box_dict['upper_latitude']\n",
    "        df.at[index, 'box_lower_longitude'] = box_dict['lower_longitude']\n",
    "        df.at[index, 'box_upper_longitude'] = box_dict['upper_longitude']\n",
    "        df.at[index, 'crime_score'] = box_dict['LAW_CAT_CD_NUMBER']\n",
    "    except Exception as e:\n",
    "        print('index', index)\n",
    "        df.at[index, 'box'] = np.nan\n",
    "        df.at[index, 'crime_score'] = 0\n",
    "    done_count+=1\n",
    "    if done_count % 2500 == 0:\n",
    "        print('done ', done_count)"
   ]
  },
  {
   "cell_type": "code",
   "execution_count": 14,
   "metadata": {},
   "outputs": [
    {
     "data": {
      "text/html": [
       "<div>\n",
       "<style scoped>\n",
       "    .dataframe tbody tr th:only-of-type {\n",
       "        vertical-align: middle;\n",
       "    }\n",
       "\n",
       "    .dataframe tbody tr th {\n",
       "        vertical-align: top;\n",
       "    }\n",
       "\n",
       "    .dataframe thead th {\n",
       "        text-align: right;\n",
       "    }\n",
       "</style>\n",
       "<table border=\"1\" class=\"dataframe\">\n",
       "  <thead>\n",
       "    <tr style=\"text-align: right;\">\n",
       "      <th></th>\n",
       "      <th>crime_score</th>\n",
       "    </tr>\n",
       "    <tr>\n",
       "      <th>neighbourhood_cleansed</th>\n",
       "      <th></th>\n",
       "    </tr>\n",
       "  </thead>\n",
       "  <tbody>\n",
       "    <tr>\n",
       "      <th>Theater District</th>\n",
       "      <td>20595.711650</td>\n",
       "    </tr>\n",
       "    <tr>\n",
       "      <th>NoHo</th>\n",
       "      <td>14087.600000</td>\n",
       "    </tr>\n",
       "    <tr>\n",
       "      <th>Chelsea</th>\n",
       "      <td>13958.700861</td>\n",
       "    </tr>\n",
       "    <tr>\n",
       "      <th>Hell's Kitchen</th>\n",
       "      <td>12516.142008</td>\n",
       "    </tr>\n",
       "    <tr>\n",
       "      <th>Flatiron District</th>\n",
       "      <td>12484.552000</td>\n",
       "    </tr>\n",
       "    <tr>\n",
       "      <th>...</th>\n",
       "      <td>...</td>\n",
       "    </tr>\n",
       "    <tr>\n",
       "      <th>City Island</th>\n",
       "      <td>179.488889</td>\n",
       "    </tr>\n",
       "    <tr>\n",
       "      <th>Huguenot</th>\n",
       "      <td>177.600000</td>\n",
       "    </tr>\n",
       "    <tr>\n",
       "      <th>Lighthouse Hill</th>\n",
       "      <td>170.200000</td>\n",
       "    </tr>\n",
       "    <tr>\n",
       "      <th>Neponsit</th>\n",
       "      <td>163.100000</td>\n",
       "    </tr>\n",
       "    <tr>\n",
       "      <th>Breezy Point</th>\n",
       "      <td>0.000000</td>\n",
       "    </tr>\n",
       "  </tbody>\n",
       "</table>\n",
       "<p>223 rows × 1 columns</p>\n",
       "</div>"
      ],
      "text/plain": [
       "                         crime_score\n",
       "neighbourhood_cleansed              \n",
       "Theater District        20595.711650\n",
       "NoHo                    14087.600000\n",
       "Chelsea                 13958.700861\n",
       "Hell's Kitchen          12516.142008\n",
       "Flatiron District       12484.552000\n",
       "...                              ...\n",
       "City Island               179.488889\n",
       "Huguenot                  177.600000\n",
       "Lighthouse Hill           170.200000\n",
       "Neponsit                  163.100000\n",
       "Breezy Point                0.000000\n",
       "\n",
       "[223 rows x 1 columns]"
      ]
     },
     "execution_count": 14,
     "metadata": {},
     "output_type": "execute_result"
    }
   ],
   "source": [
    "df[['neighbourhood_cleansed', 'crime_score']].groupby('neighbourhood_cleansed').mean().sort_values('crime_score', ascending=False)"
   ]
  },
  {
   "cell_type": "code",
   "execution_count": 15,
   "metadata": {},
   "outputs": [],
   "source": [
    "box_df = box_df.rename(columns={'LAW_CAT_CD_NUMBER': 'crime_score', 'boxes': 'box'})\n",
    "box_df = box_df[['lower_latitude', 'upper_latitude', 'mean_latitude', \n",
    "                       'lower_longitude', 'upper_longitude', 'mean_longitude', \n",
    "                       'box', 'crime_score']]"
   ]
  },
  {
   "cell_type": "code",
   "execution_count": 16,
   "metadata": {},
   "outputs": [],
   "source": [
    "box_df.to_csv('data/crime_scores_granular.csv')"
   ]
  },
  {
   "cell_type": "code",
   "execution_count": 17,
   "metadata": {},
   "outputs": [],
   "source": [
    "(df[['box_lower_latitude', 'box_upper_latitude', 'box_lower_longitude', \n",
    "     'box_upper_longitude', 'box', 'crime_score']].to_csv('data/listings_with_crime_scores_granular.csv'))"
   ]
  },
  {
   "cell_type": "code",
   "execution_count": null,
   "metadata": {},
   "outputs": [],
   "source": []
  }
 ],
 "metadata": {
  "kernelspec": {
   "display_name": "Python 3",
   "language": "python",
   "name": "python3"
  },
  "language_info": {
   "codemirror_mode": {
    "name": "ipython",
    "version": 3
   },
   "file_extension": ".py",
   "mimetype": "text/x-python",
   "name": "python",
   "nbconvert_exporter": "python",
   "pygments_lexer": "ipython3",
   "version": "3.7.4"
  }
 },
 "nbformat": 4,
 "nbformat_minor": 2
}
