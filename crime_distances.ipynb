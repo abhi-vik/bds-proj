{
 "cells": [
  {
   "cell_type": "code",
   "execution_count": 1,
   "metadata": {},
   "outputs": [],
   "source": [
    "import json\n",
    "\n",
    "import numpy as np\n",
    "import pandas as pd\n",
    "from money_parser import price_dec\n",
    "\n",
    "pd.options.display.max_columns = None"
   ]
  },
  {
   "cell_type": "code",
   "execution_count": 2,
   "metadata": {},
   "outputs": [
    {
     "name": "stderr",
     "output_type": "stream",
     "text": [
      "/home/abhivik/.local/lib/python3.6/site-packages/IPython/core/interactiveshell.py:3058: DtypeWarning: Columns (94,95) have mixed types. Specify dtype option on import or set low_memory=False.\n",
      "  interactivity=interactivity, compiler=compiler, result=result)\n"
     ]
    }
   ],
   "source": [
    "def curr_to_float(v): return float(price_dec(v)) if v else v\n",
    "def tf_to_10(v): return 1 if v == 't' else 0\n",
    "def nulls_to_0(v): return float(0 if (pd.isnull(v) or v == '') else v)\n",
    "\n",
    "converters_to_columns = [\n",
    "    (curr_to_float, ['price', 'weekly_price', 'monthly_price']),\n",
    "    (tf_to_10, ['instant_bookable', 'host_is_superhost']),\n",
    "    (nulls_to_0, ['bedrooms', 'bathrooms'])\n",
    "]\n",
    "\n",
    "converters = {col: conv for conv, cols in converters_to_columns for col in cols}\n",
    "\n",
    "df = pd.read_csv('data/listings.csv', index_col='id', converters=converters)"
   ]
  },
  {
   "cell_type": "code",
   "execution_count": 51,
   "metadata": {},
   "outputs": [],
   "source": [
    "complaints_df = pd.read_csv('data/NYPD_Complaint_Data_Historic.csv', index_col='CMPLNT_NUM')"
   ]
  },
  {
   "cell_type": "code",
   "execution_count": 45,
   "metadata": {},
   "outputs": [],
   "source": [
    "cleaned_complaints_df = complaints_df[~complaints_df['Latitude'].isnull()]"
   ]
  },
  {
   "cell_type": "code",
   "execution_count": 236,
   "metadata": {},
   "outputs": [],
   "source": [
    "lats = pd.cut(cleaned_complaints_df['Latitude'], 30)\n",
    "lons = pd.cut(cleaned_complaints_df['Longitude'], 30)"
   ]
  },
  {
   "cell_type": "code",
   "execution_count": 238,
   "metadata": {},
   "outputs": [],
   "source": [
    "lats = lats.apply(lambda v: str(v.left) + ',' + str(v.right))\n",
    "lons = lons.apply(lambda v: str(v.left) + ',' + str(v.right))"
   ]
  },
  {
   "cell_type": "code",
   "execution_count": 239,
   "metadata": {},
   "outputs": [],
   "source": [
    "boxes = lats.str.cat(lons, sep=',')"
   ]
  },
  {
   "cell_type": "code",
   "execution_count": 240,
   "metadata": {},
   "outputs": [],
   "source": [
    "cleaned_complaints_df['boxes'] = boxes"
   ]
  },
  {
   "cell_type": "code",
   "execution_count": 156,
   "metadata": {},
   "outputs": [],
   "source": [
    "# def to_tuple_str(v1, v2): return '(' + str(v1) + ', ' + str(v2) + ')'\n",
    "# lats = lats.apply(lambda v: '(' + to_tuple_str(v.left, v.right))\n",
    "# lons = lons.apply(lambda v: to_tuple_str(v.left, v.right) + ')')\n",
    "# cleaned_complaints_df['boxes'] = lats.str.cat(lons, sep=', ')"
   ]
  },
  {
   "cell_type": "code",
   "execution_count": 241,
   "metadata": {},
   "outputs": [],
   "source": [
    "def convert_to_number(val):\n",
    "    if (val == 'FELONY'):\n",
    "        return 5\n",
    "    elif (val == 'MISDEMEANOR'):\n",
    "        return 1\n",
    "    else:\n",
    "        return 0.1\n",
    "\n",
    "cleaned_complaints_df['LAW_CAT_CD_NUMBER'] = cleaned_complaints_df['LAW_CAT_CD'].apply(convert_to_number)"
   ]
  },
  {
   "cell_type": "code",
   "execution_count": 242,
   "metadata": {},
   "outputs": [],
   "source": [
    "box_df = cleaned_complaints_df[['boxes', 'LAW_CAT_CD_NUMBER']].groupby('boxes').sum().copy()"
   ]
  },
  {
   "cell_type": "code",
   "execution_count": 243,
   "metadata": {},
   "outputs": [],
   "source": [
    "box_df = box_df.reset_index()"
   ]
  },
  {
   "cell_type": "code",
   "execution_count": 244,
   "metadata": {},
   "outputs": [],
   "source": [
    "box_df['lower_latitude'] = box_df['boxes'].apply(lambda v: float(v.split(',')[0]))\n",
    "box_df['upper_latitude'] = box_df['boxes'].apply(lambda v: float(v.split(',')[1]))\n",
    "box_df['lower_longitude'] = box_df['boxes'].apply(lambda v: float(v.split(',')[2]))\n",
    "box_df['upper_longitude'] = box_df['boxes'].apply(lambda v: float(v.split(',')[3]))"
   ]
  },
  {
   "cell_type": "code",
   "execution_count": 245,
   "metadata": {},
   "outputs": [],
   "source": [
    "box_df['lower_latitude'] = box_df['lower_latitude'].apply(lambda v: 0 if v == box_df['lower_latitude'].min() else v)\n",
    "box_df['upper_latitude'] = box_df['upper_latitude'].apply(lambda v: (v+1) if v == box_df['upper_latitude'].max() else v)\n",
    "box_df['lower_longitude'] = box_df['lower_longitude'].apply(lambda v: (v-1) if v == box_df['lower_longitude'].min() else v)\n",
    "box_df['upper_longitude'] = box_df['upper_longitude'].apply(lambda v: 0 if v == box_df['upper_longitude'].max() else v)"
   ]
  },
  {
   "cell_type": "code",
   "execution_count": 247,
   "metadata": {
    "scrolled": true
   },
   "outputs": [
    {
     "name": "stdout",
     "output_type": "stream",
     "text": [
      "done  1000\n",
      "done  2000\n",
      "done  3000\n",
      "done  4000\n",
      "done  5000\n",
      "done  6000\n",
      "done  7000\n",
      "done  8000\n",
      "done  9000\n",
      "done  10000\n",
      "done  11000\n",
      "done  12000\n",
      "done  13000\n",
      "done  14000\n",
      "done  15000\n",
      "done  16000\n",
      "done  17000\n",
      "done  18000\n",
      "done  19000\n",
      "done  20000\n",
      "done  21000\n",
      "done  22000\n",
      "done  23000\n",
      "done  24000\n",
      "done  25000\n",
      "done  26000\n",
      "done  27000\n",
      "done  28000\n",
      "done  29000\n",
      "done  30000\n",
      "done  31000\n",
      "done  32000\n",
      "done  33000\n",
      "done  34000\n",
      "done  35000\n",
      "done  36000\n",
      "done  37000\n",
      "done  38000\n",
      "done  39000\n",
      "done  40000\n",
      "done  41000\n",
      "done  42000\n",
      "done  43000\n",
      "done  44000\n",
      "done  45000\n",
      "done  46000\n",
      "done  47000\n",
      "done  48000\n",
      "done  49000\n",
      "done  50000\n"
     ]
    }
   ],
   "source": [
    "df['crime_score'] = np.nan\n",
    "done_count = 0\n",
    "for index, row in df.iterrows():\n",
    "    s1 = np.logical_and(row.latitude > box_df['lower_latitude'], row.latitude <= box_df['upper_latitude'])\n",
    "    s2 = np.logical_and(row.longitude > box_df['lower_longitude'], row.longitude <= box_df['upper_longitude'])\n",
    "    box = box_df[np.logical_and(s1, s2)]\n",
    "    try:\n",
    "        df.at[index, 'crime_score'] = box['LAW_CAT_CD_NUMBER'].tolist()[0]\n",
    "    except Exception as e:\n",
    "        display(index)\n",
    "    done_count+=1\n",
    "    if done_count % 1000 == 0:\n",
    "        print('done ', done_count)"
   ]
  },
  {
   "cell_type": "code",
   "execution_count": null,
   "metadata": {},
   "outputs": [],
   "source": [
    "# df['crime_measure'] = np.nan\n",
    "# total_crimes = len(weird_df.index)\n",
    "\n",
    "# done_count = 0\n",
    "# for listing_index, listing_row in df.iterrows():\n",
    "#     total_distance = 0\n",
    "#     lat, lon = listing_row['latitude'], listing_row['longitude']\n",
    "#     for index, row in weird_df.iterrows():\n",
    "#         distance = ((row['Latitude']['mean'] - lat)**2 + (row['Longitude']['mean'] - lon)**2) * 10000000\n",
    "#         total_distance += (row['LAW_CAT_CD_NUMBER', 'sum'] / (distance))\n",
    "#     df.at[listing_index, 'crime_measure'] = total_distance\n",
    "#     done_count+=1\n",
    "#     if done_count % 1000 == 0:\n",
    "#         print('done ', done_count)"
   ]
  },
  {
   "cell_type": "code",
   "execution_count": 255,
   "metadata": {},
   "outputs": [
    {
     "name": "stderr",
     "output_type": "stream",
     "text": [
      "/home/abhivik/.local/lib/python3.6/site-packages/ipykernel_launcher.py:1: FutureWarning: The signature of `Series.to_csv` was aligned to that of `DataFrame.to_csv`, and argument 'header' will change its default value from False to True: please pass an explicit value to suppress this warning.\n",
      "  \"\"\"Entry point for launching an IPython kernel.\n"
     ]
    }
   ],
   "source": [
    "df['crime_score'].to_csv('crime_score.csv')"
   ]
  }
 ],
 "metadata": {
  "kernelspec": {
   "display_name": "Python 3",
   "language": "python",
   "name": "python3"
  },
  "language_info": {
   "codemirror_mode": {
    "name": "ipython",
    "version": 3
   },
   "file_extension": ".py",
   "mimetype": "text/x-python",
   "name": "python",
   "nbconvert_exporter": "python",
   "pygments_lexer": "ipython3",
   "version": "3.6.8"
  }
 },
 "nbformat": 4,
 "nbformat_minor": 2
}
